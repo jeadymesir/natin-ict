{
  "nbformat": 4,
  "nbformat_minor": 0,
  "metadata": {
    "colab": {
      "provenance": [],
      "authorship_tag": "ABX9TyO9STZK8+BM16PmUgqQsd33",
      "include_colab_link": true
    },
    "kernelspec": {
      "name": "python3",
      "display_name": "Python 3"
    },
    "language_info": {
      "name": "python"
    }
  },
  "cells": [
    {
      "cell_type": "markdown",
      "metadata": {
        "id": "view-in-github",
        "colab_type": "text"
      },
      "source": [
        "<a href=\"https://colab.research.google.com/github/jeadymesir/natin-ict/blob/main/4AOPythonMesirJ.ipynb\" target=\"_parent\"><img src=\"https://colab.research.google.com/assets/colab-badge.svg\" alt=\"Open In Colab\"/></a>"
      ]
    },
    {
      "cell_type": "markdown",
      "source": [
        "Opdracht 1: Write a Python program that converts a given length in meters to various units:\n",
        "\n",
        "Centimeters\n",
        "Millimeters\n",
        "Kilometers\n",
        "Steps:\n",
        "Prompt the user to enter a length in meters.\n",
        "Perform the necessary calculations to convert the length to centimeters, millimeters, and kilometers.\n",
        "Display the converted values."
      ],
      "metadata": {
        "id": "xi4Q60APdgcs"
      }
    },
    {
      "cell_type": "code",
      "source": [
        "meters = float(input(\"Voer een lengte in meters in: \"))\n",
        "\n",
        "centimeters = meters * 100\n",
        "millimeters = meters * 1000\n",
        "kilometers = meters / 1000\n",
        "\n",
        "print(\"Lengte in centimeters:\", centimeters)\n",
        "print(\"Lengte in millimeters:\", millimeters)\n",
        "print(\"Lengte in kilometers:\", kilometers)"
      ],
      "metadata": {
        "colab": {
          "base_uri": "https://localhost:8080/"
        },
        "id": "bsp1OfnYc1Fc",
        "outputId": "4f65d5d6-00e5-42d7-b17d-fe0b84b6160b"
      },
      "execution_count": null,
      "outputs": [
        {
          "output_type": "stream",
          "name": "stdout",
          "text": [
            "Voer een lengte in meters in: 15\n",
            "Lengte in centimeters: 1500.0\n",
            "Lengte in millimeters: 15000.0\n",
            "Lengte in kilometers: 0.015\n"
          ]
        }
      ]
    },
    {
      "cell_type": "markdown",
      "source": [
        "Opdracht 2: Write a Python program to calculate the Body Mass Index (BMI) based on the user's weight (in kilograms) and height (in meters).\n",
        "Steps:\n",
        "Prompt the user to enter their weight and height.\n",
        "Calculate the BMI using the formula.\n",
        "Display the BMI value and a message indicating the weight category (e.g., underweight, normal weight, overweight, obese)."
      ],
      "metadata": {
        "id": "0hJ40GENdkvU"
      }
    },
    {
      "cell_type": "code",
      "source": [
        "weight = float(input(\"Voer je gewicht in kilogram in: \"))\n",
        "height = float(input(\"Voer je lengte in meters in: \"))\n",
        "\n",
        "bmi = weight / (height ** 2)\n",
        "\n",
        "# BMI-waarde\n",
        "print(f\"Je BMI is: {bmi:.2f}\")\n",
        "\n",
        "# Gewichtscategorie\n",
        "if bmi < 18.5:\n",
        "    category = \"Ondergewicht\"\n",
        "elif 18.5 <= bmi < 24.9:\n",
        "    category = \"Normaal gewicht\"\n",
        "elif 25 <= bmi < 29.9:\n",
        "    category = \"u r a fattyyyy\"\n",
        "else:\n",
        "    category = \"Obesitas\"\n",
        "\n",
        "print(f\"Je valt in de categorie: {category}\")\n"
      ],
      "metadata": {
        "colab": {
          "base_uri": "https://localhost:8080/"
        },
        "id": "NOJBCpY-d4Z8",
        "outputId": "b07d1437-62ed-45c7-da7c-96f368b9e740"
      },
      "execution_count": null,
      "outputs": [
        {
          "output_type": "stream",
          "name": "stdout",
          "text": [
            "Voer je gewicht in kilogram in: 50\n",
            "Voer je lengte in meters in: 1.2\n",
            "Je BMI is: 34.72\n",
            "Je valt in de categorie: Obesitas\n"
          ]
        }
      ]
    },
    {
      "cell_type": "markdown",
      "source": [
        "Opdracht 3: Maak 4 variabelen en voer de operators:\n",
        "1. optellen/ aftrekken/ delen en modules uit\n",
        "2. Voer je eigen geboortedatum en bereken je leeftijd, druk het vervolgens af met een mooie tekst (\"mijn leeftijd is\"...)\n",
        "3.Voer in de volgende blok het huidig jaar in en ga na als het een schrikkeljaar is\n",
        "4.In de volgende : Voer je naam in en schrijf een string bewerking om alleen de laatste 3 letters daarvan af te drukken\n",
        "Schrijf ook een instructie om je volledige naam in blokletters af te drukken\n",
        "5. Maak een lijst met enkele willekeurige getallen.\n",
        "Schrijf de instructie om een nieuw getal toe te voegen. Dit nieuw getal wordt getal wordt door de gebruiker opgegeven.\n",
        "Schrijf de instructie om een willekeurig getal te verwijderen\n",
        "Schrijf de instructie om de minimum en maximum af te *drukken*"
      ],
      "metadata": {
        "id": "0AR14-Chr4kk"
      }
    },
    {
      "cell_type": "code",
      "source": [
        "# 1. Optellen, aftrekken, delen en modules\n",
        "print(\"1. Rekenkundige bewerkingen\")\n",
        "a = 10\n",
        "b = 20\n",
        "c = 15\n",
        "d = 5\n",
        "\n",
        "print(\"Optellen (a + b):\", a + b)\n",
        "print(\"Aftrekken (b - c):\", b - c)\n",
        "print(\"Delen (b / d):\", b / d)\n",
        "print(\"Modules (c % d):\", c % d)\n",
        "print()\n",
        "\n",
        "# 2. Leeftijd berekenen\n",
        "print(\"2. Leeftijd berekenen\")\n",
        "geboortejaar = int(input(\"Voer je geboortejaar in: \"))\n",
        "huidig_jaar = 2024\n",
        "leeftijd = huidig_jaar - geboortejaar\n",
        "print(f\"Je bent {leeftijd} jaar oud.\")\n",
        "print()\n",
        "\n",
        "# 3. Controleren of het een schrikkeljaar is\n",
        "print(\"3. Controleer schrikkeljaar\")\n",
        "jaar = int(input(\"Voer een willekeurig jaar in: \"))\n",
        "if (jaar % 4 == 0 and jaar % 100 != 0) or (jaar % 400 == 0):\n",
        "    print(f\"{jaar} is een schrikkeljaar.\")\n",
        "else:\n",
        "    print(f\"{jaar} is geen schrikkeljaar.\")\n",
        "print()\n",
        "\n",
        "# 4. String bewerkingen\n",
        "print(\"4. Bewerk je naam\")\n",
        "naam = input(\"Voer je naam in: \")\n",
        "\n",
        "# Laatste 3 letters afdrukken\n",
        "print(\"De laatste 3 letters van je naam zijn:\", naam[-3:])\n",
        "\n",
        "# Naam in blokletters\n",
        "print(\"Je volledige naam in blokletters is:\", naam.upper())\n",
        "print()\n",
        "\n",
        "# 5. Lijst bewerkingen\n",
        "print(\"5. Lijstbewerking\")\n",
        "getallen = [4, 8, 15, 23, 42]\n",
        "print(\"Startlijst:\", getallen)\n",
        "\n",
        "# Voeg een nieuw getal toe\n",
        "nieuw_getal = int(input(\"Voer een nieuw getal in: \"))\n",
        "getallen.append(nieuw_getal)\n",
        "print(\"Bijgewerkte lijst:\", getallen)\n",
        "\n",
        "# Verwijder een getal\n",
        "verwijderen = int(input(\"Voer een getal in om te verwijderen: \")) # Dit geeft <class 'int'> terug omdat er wiskundige bijwerkingen wordn uitgevoerd\n",
        "if verwijderen in getallen:\n",
        "    getallen.remove(verwijderen)\n",
        "    print(\"Lijst na verwijderen:\", getallen)\n",
        "else:\n",
        "    print(f\"{verwijderen} staat niet in de lijst.\")\n",
        "\n",
        "# Minimum en maximum\n",
        "print(\"Minimum in de lijst:\", min(getallen))\n",
        "print(\"Maximum in de lijst:\", max(getallen))\n"
      ],
      "metadata": {
        "colab": {
          "base_uri": "https://localhost:8080/"
        },
        "id": "VGqRGdfxsMK1",
        "outputId": "e87514b8-434b-4348-aec5-20d5842d3eff"
      },
      "execution_count": null,
      "outputs": [
        {
          "output_type": "stream",
          "name": "stdout",
          "text": [
            "1. Rekenkundige bewerkingen\n",
            "Optellen (a + b): 30\n",
            "Aftrekken (b - c): 5\n",
            "Delen (b / d): 4.0\n",
            "Modules (c % d): 0\n",
            "\n",
            "2. Leeftijd berekenen\n",
            "Voer je geboortejaar in: 2005\n",
            "Je bent 19 jaar oud.\n",
            "\n",
            "3. Controleer schrikkeljaar\n",
            "Voer een willekeurig jaar in: 2024\n",
            "2024 is een schrikkeljaar.\n",
            "\n",
            "4. Bewerk je naam\n",
            "Voer je naam in: Jeady\n",
            "De laatste 3 letters van je naam zijn: ady\n",
            "Je volledige naam in blokletters is: JEADY\n",
            "\n",
            "5. Lijstbewerking\n",
            "Startlijst: [4, 8, 15, 23, 42]\n",
            "Voer een nieuw getal in: 29\n",
            "Bijgewerkte lijst: [4, 8, 15, 23, 42, 29]\n",
            "Voer een getal in om te verwijderen: 42\n",
            "Lijst na verwijderen: [4, 8, 15, 23, 29]\n",
            "Minimum in de lijst: 4\n",
            "Maximum in de lijst: 29\n"
          ]
        }
      ]
    },
    {
      "cell_type": "markdown",
      "source": [
        "Opdracht 4: A.Tuple samenvoegen:\n",
        "Stel  2 tuples samen:\n",
        "1. met namen van de studenten\n",
        "2. met leeftijden van de studenten\n",
        "Zorg ervoor dat de genoemde tuples samen gevoegd worden en dat het wordt afgedrukt.\n",
        "\n",
        "Opdracht dictionary python:\n",
        "B. Maak een python programma welke een dictionary creeert (Student) en waarin de volgende informatie voorkomt:\n",
        "-naam\n",
        "-leeftijd\n",
        "-studierichting\n",
        "- studentennummer\n",
        "Doe de volgende bewerkingen hierop:\n",
        "a.Druk de inhoud ervan af\n",
        "b.Haal de leeftijd van de student op en druk en ook af\n",
        "c.Controleer als je dictionary een sleutel heeft. Zo niet, voeg het toe\n",
        "d.Verwijder studentennummer en druk de dictionary weer af"
      ],
      "metadata": {
        "id": "n49cOVpsCaTa"
      }
    },
    {
      "cell_type": "markdown",
      "source": [],
      "metadata": {
        "id": "rGfqCMO9vXId"
      }
    },
    {
      "cell_type": "code",
      "source": [
        "# Opdracht 4a Tuple samenvoegen\n",
        "\n",
        "# Tuples met namen en leeftijden van studenten\n",
        "studenten_namen = (\"Max\", \"Charles\", \"George\", \"Lewis\")\n",
        "studenten_leeftijden = (20, 22, 21, 19)\n",
        "\n",
        "# Samenvoegen van de tuples met de zip functie\n",
        "studenten_info = tuple(zip(studenten_namen, studenten_leeftijden))\n",
        "# De zip functie koppelt elk element van de twee tuples, bijvoorbeeld ('Max', 20).\n",
        "\n",
        "print(\"Samengevoegde tuple met studenten info:\", studenten_info)\n"
      ],
      "metadata": {
        "colab": {
          "base_uri": "https://localhost:8080/"
        },
        "id": "vNnryjO-DGM7",
        "outputId": "0f2f4fc2-8e57-49de-90a4-de535075add2"
      },
      "execution_count": null,
      "outputs": [
        {
          "output_type": "stream",
          "name": "stdout",
          "text": [
            "Samengevoegde tuple met studenten info: (('Max', 20), ('Charles', 22), ('George', 21), ('Lewis', 19))\n"
          ]
        }
      ]
    },
    {
      "cell_type": "code",
      "source": [
        "# Opdracht 4b Dictionary Python\n",
        "\n",
        "# Dictionary met studentinfo\n",
        "student = {\n",
        "    \"naam\": \"Max Verstappen\",\n",
        "    \"leeftijd\": 20,\n",
        "    \"studierichting\": \"ICT\",\n",
        "    \"studentennummer\": \"S12345\"\n",
        "}\n",
        "\n",
        "print(\"Student informatie:\", student)\n",
        "\n",
        "print(\"Leeftijd van de student:\", student[\"leeftijd\"])\n",
        "\n",
        "# Controleer of een sleutel (bijvoorbeeld 'adres') in de dictionary zit, zo niet voeg het toe\n",
        "if \"adres\" not in student:\n",
        "    student[\"adres\"] = \"Lindengracht 123, Paramaribo\"\n",
        "\n",
        "# Verwijderen van studentennummer en de dictionary weer afdrukken\n",
        "del student[\"studentennummer\"]\n",
        "print(\"Student informatie na verwijderen van studentennummer:\", student)\n"
      ],
      "metadata": {
        "colab": {
          "base_uri": "https://localhost:8080/"
        },
        "id": "EMmjpMMtEKjX",
        "outputId": "2185639a-134f-4294-cb15-8c1a1ae6b2f2"
      },
      "execution_count": null,
      "outputs": [
        {
          "output_type": "stream",
          "name": "stdout",
          "text": [
            "Student informatie: {'naam': 'Max Verstappen', 'leeftijd': 20, 'studierichting': 'ICT', 'studentennummer': 'S12345'}\n",
            "Leeftijd van de student: 20\n",
            "Student informatie na verwijderen van studentennummer: {'naam': 'Max Verstappen', 'leeftijd': 20, 'studierichting': 'ICT', 'adres': 'Lindengracht 123, Paramaribo'}\n"
          ]
        }
      ]
    },
    {
      "cell_type": "markdown",
      "source": [
        "Opdracht 5: A. Functions:\n",
        "Maak een list met willekeurige getallen\n",
        "Schrijf vervolgens een functie om de som te berekenen van de even getallen die in die list staan.\n",
        "Zorg ervoor dat de gebruiker elke keer andere getallen in de list kan invoeren en dat de berekening steeds met de nieuwe getallen geschiedt.\n",
        "\n",
        "B. Lambda:\n",
        "Herschrijf deze code en maak gebruik van de lambda functie om de som van de even getallen te berekenen"
      ],
      "metadata": {
        "id": "Y514eUvZG6rA"
      }
    },
    {
      "cell_type": "code",
      "source": [
        "# Opdracht 5a Functions\n",
        "\n",
        "# Functie om de som van de even getallen in een lijst te berekenen\n",
        "def som_even_getallen(getallen):\n",
        "    # Filteren v/d even getallen uit de lijst met behulp v/e list comprehension\n",
        "    even_getallen = [getal for getal in getallen if getal % 2 == 0]\n",
        "    # Sum functie om de som van de even getallen te berekenen\n",
        "    return sum(even_getallen)\n",
        "\n",
        "# Gebruiker invoer\n",
        "while True:\n",
        "    try:\n",
        "        # Gebruiker vragen om een lijst v getallen in te voeren, gecsheiden door spaties\n",
        "        getallen = list(map(int, input(\"Voer een lijst van getallen in (gescheiden door spaties): \").split()))\n",
        "\n",
        "        # Som berekenen dmv de functie aan te roepen\n",
        "        print(f\"De som van de even getallen is: {som_even_getallen(getallen)}\")\n",
        "\n",
        "        opnieuw = input(\"Wil je nog een lijst invoeren? (ja/nee): \").strip().lower()\n",
        "        if opnieuw != 'ja':\n",
        "            break  # Stop de loop als de gebruiker nee zegt\n",
        "    except ValueError:\n",
        "        # Error handling block voor ongeldige invoer\n",
        "        print(\"Voer een geldige lijst van getallen in!\")\n"
      ],
      "metadata": {
        "colab": {
          "base_uri": "https://localhost:8080/"
        },
        "id": "7M9nh0KfHCFo",
        "outputId": "4c3265b6-dda9-451b-fdad-74ff1e31274b"
      },
      "execution_count": null,
      "outputs": [
        {
          "name": "stdout",
          "output_type": "stream",
          "text": [
            "Voer een lijst van getallen in (gescheiden door spaties): 2 4 6 8 9\n",
            "De som van de even getallen is: 20\n",
            "Wil je nog een lijst invoeren? (ja/nee): ja\n",
            "Voer een lijst van getallen in (gescheiden door spaties): 2 4 7\n",
            "De som van de even getallen is: 6\n",
            "Wil je nog een lijst invoeren? (ja/nee): nee\n"
          ]
        }
      ]
    },
    {
      "cell_type": "code",
      "source": [
        "# Opdracht 5b Lambda functie\n",
        "\n",
        "# De lambda-functie filtert de even getallen uit de lijst en telt ze op\n",
        "# filter() selecteert even getallen (dus die x % 2 == 0) en sum berekent de som van deze getallen\n",
        "som_even_getallen_lambda = lambda getallen: sum(filter(lambda x: x % 2 == 0, getallen))\n",
        "\n",
        "while True:\n",
        "    try:\n",
        "        getallen = list(map(int, input(\"Voer een lijst van getallen in (gescheiden door spaties): \").split()))\n",
        "\n",
        "        # Bereken de som van de even getallen met de lambda functie\n",
        "        print(f\"De som van de even getallen is: {som_even_getallen_lambda(getallen)}\")\n",
        "\n",
        "        opnieuw = input(\"Wil je nog een lijst invoeren? (ja/nee): \").strip().lower()\n",
        "        if opnieuw != 'ja':\n",
        "            break  # Stop de loop als de gebruiker nee zegt\n",
        "    except ValueError:\n",
        "        # Error handling block voor ongeldige invoer\n",
        "        print(\"Voer een geldige lijst van getallen in!\")\n"
      ],
      "metadata": {
        "colab": {
          "base_uri": "https://localhost:8080/"
        },
        "id": "WorZWoPMInxF",
        "outputId": "36185180-bf00-48f7-9477-2cb9ca3658e5"
      },
      "execution_count": null,
      "outputs": [
        {
          "name": "stdout",
          "output_type": "stream",
          "text": [
            "Voer een lijst van getallen in (gescheiden door spaties): 5 6 7 8 9 10\n",
            "De som van de even getallen is: 24\n",
            "Wil je nog een lijst invoeren? (ja/nee): nee\n"
          ]
        }
      ]
    },
    {
      "cell_type": "code",
      "source": [],
      "metadata": {
        "id": "nh3TlN0GOUx3"
      },
      "execution_count": null,
      "outputs": []
    },
    {
      "cell_type": "markdown",
      "source": [],
      "metadata": {
        "id": "EvwUhyBjr9Y9"
      }
    }
  ]
}